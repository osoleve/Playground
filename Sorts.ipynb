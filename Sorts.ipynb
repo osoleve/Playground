{
 "cells": [
  {
   "cell_type": "markdown",
   "metadata": {},
   "source": [
    "I know these are \"unpythonic\" but I eschewed some of Python's more elegant constructs in order to increase efficiency (for whatever that's worth)\n",
    "\n",
    "This is just for fun and learning, there are more efficient methods for sorting."
   ]
  },
  {
   "cell_type": "code",
   "execution_count": 4,
   "metadata": {},
   "outputs": [],
   "source": [
    "import random"
   ]
  },
  {
   "cell_type": "code",
   "execution_count": 5,
   "metadata": {},
   "outputs": [],
   "source": [
    "def merge_sort(L):\n",
    "    \"\"\"Merge sort: Divide and conquer the list.\n",
    "    Recursively break the list into two sublists, sort those sublists, and merge the sorted lists.\n",
    "    \"\"\"\n",
    "\n",
    "    def merge_sorted(L1, L2):\n",
    "        \"\"\"Merge 2 sorted lists\"\"\"\n",
    "\n",
    "        lenL1 = len(L1)\n",
    "        if lenL1 == 0:\n",
    "            return L2\n",
    "\n",
    "        lenL2 = len(L2)\n",
    "        if lenL2 == 0:\n",
    "            return L1\n",
    "        elif lenL1 == 1 and lenL2 == 1:\n",
    "            if L1[0] >= L2[0]:\n",
    "                return [L2[0], L1[0]]\n",
    "            else:\n",
    "                return [L1[0], L2[0]]\n",
    "        else:\n",
    "            if L1[0] == L2[0]:\n",
    "                return [L1[0], L2[0]] + merge_sorted(L1[1:], L2[1:])\n",
    "            elif L1[0] > L2[0]:\n",
    "                return [L2[0]] + merge_sorted(L1, L2[1:])\n",
    "            else:\n",
    "                return [L1[0]] + merge_sorted(L1[1:], L2)\n",
    "\n",
    "    lenL = len(L)\n",
    "\n",
    "    if lenL == 1:\n",
    "        return L\n",
    "    elif lenL == 2:\n",
    "        return merge_sorted([L[0]], [L[1]])\n",
    "    else:\n",
    "        mid = int(lenL / 2)\n",
    "        L1, L2 = L[:mid], L[mid:]\n",
    "        return merge_sorted(merge_sort(L1), merge_sort(L2))"
   ]
  },
  {
   "cell_type": "code",
   "execution_count": 6,
   "metadata": {},
   "outputs": [],
   "source": [
    "def quick_sort(L):\n",
    "    \"\"\"Quicksort: \n",
    "    Recursively:\n",
    "    Pick a pivot index (below uses the first item in the list). \n",
    "    Move items less than the pivot to the left.\n",
    "    Move items greater than the pivot to the right.\n",
    "    Mofidied: Keep items equal to pivot in the center with the pivot.\"\"\"\n",
    "    lenL = len(L)\n",
    "\n",
    "    if lenL == 0:\n",
    "        return []\n",
    "    elif lenL == 1:\n",
    "        return L\n",
    "    elif lenL == 2:\n",
    "        if L[0] <= L[1]:\n",
    "            return L\n",
    "        else:\n",
    "            return L[::-1]\n",
    "    else:\n",
    "        pivot = L[0]\n",
    "        left, middle, right = [], [], []\n",
    "\n",
    "        for x in L:\n",
    "            if x < pivot:\n",
    "                left.append(x)\n",
    "            elif x == pivot:\n",
    "                middle.append(x)\n",
    "            else:\n",
    "                right.append(x)\n",
    "\n",
    "        return quick_sort(left) + middle + quick_sort(right)"
   ]
  },
  {
   "cell_type": "code",
   "execution_count": 7,
   "metadata": {},
   "outputs": [],
   "source": [
    "def selection_sort(L):\n",
    "    \"\"\"Selection sort:\n",
    "    Recursively move the minimum item to the beginning of the list.\n",
    "    Modified: Move all equal to minimum at the same time.\"\"\"\n",
    "    lenL = len(L)\n",
    "\n",
    "    if lenL == 0:\n",
    "        return []\n",
    "    elif lenL == 1:\n",
    "        return L\n",
    "    else:\n",
    "        minL = min(L)\n",
    "        left, right = [], []\n",
    "\n",
    "        for x in L:\n",
    "            if x == minL:\n",
    "                left.append(x)\n",
    "            else:\n",
    "                right.append(x)\n",
    "\n",
    "        return left + selection_sort(right)"
   ]
  },
  {
   "cell_type": "code",
   "execution_count": 8,
   "metadata": {},
   "outputs": [],
   "source": [
    "def bubble_sort(L):\n",
    "    \"\"\"Bubble sort:\n",
    "    Continuously swap adjacent pairs if they're in reverse order.\n",
    "    Return the list when you make a full pass without any swaps.\"\"\"\n",
    "    is_sorted = 0\n",
    "    lenL = len(L)\n",
    "\n",
    "    if lenL == 0:\n",
    "        return []\n",
    "    elif lenL == 1:\n",
    "        return L\n",
    "\n",
    "    while is_sorted == 0:\n",
    "        is_sorted = 1\n",
    "\n",
    "        for i, x in enumerate(L):\n",
    "            if i + 1 == lenL:\n",
    "                break\n",
    "\n",
    "            y = L[i + 1]\n",
    "\n",
    "            if x > y:\n",
    "                L[i], L[i + 1] = y, x\n",
    "                is_sorted = 0\n",
    "\n",
    "    return L"
   ]
  },
  {
   "cell_type": "code",
   "execution_count": 9,
   "metadata": {},
   "outputs": [],
   "source": [
    "def gnomesort(L):\n",
    "    \"\"\"Gnome Sort/Stupid Sort:\n",
    "    Description: https://www.geeksforgeeks.org/gnome-sort-a-stupid-one/\n",
    "    \n",
    "    Not serious.\"\"\"\n",
    "    i = 1\n",
    "\n",
    "    while i < len(L):\n",
    "        # Since we compare with previous, skip the first element\n",
    "        if i == 0:\n",
    "            i += 1\n",
    "            continue\n",
    "\n",
    "        if L[i] < L[i - 1]:\n",
    "            # If less than previous, swap and step back\n",
    "            L[i - 1], L[i] = L[i], L[i - 1]\n",
    "            i -= 1\n",
    "        else:\n",
    "            # Step forward\n",
    "            i += 1\n",
    "\n",
    "    return L"
   ]
  },
  {
   "cell_type": "code",
   "execution_count": 10,
   "metadata": {},
   "outputs": [],
   "source": [
    "def insertion_sort(L):\n",
    "    \"\"\"Insertion sort:\n",
    "    Create a new list one element at a time, putting each element where it belongs.\n",
    "    \n",
    "    TODO: Rewrite using binary search (or better?) instead of linear\"\"\"\n",
    "\n",
    "    newL = []\n",
    "\n",
    "    for x in L:\n",
    "        if newL == []:\n",
    "            newL = [x]\n",
    "            continue\n",
    "        newlen = len(newL)\n",
    "        for i, y in enumerate(newL):\n",
    "            if i + 1 == newlen:\n",
    "                newL.append(x)\n",
    "                break\n",
    "            elif y >= x:\n",
    "                newL = newL[:i] + [x] + newL[i:]\n",
    "                break\n",
    "\n",
    "    return newL"
   ]
  },
  {
   "cell_type": "code",
   "execution_count": 11,
   "metadata": {},
   "outputs": [
    {
     "name": "stdout",
     "output_type": "stream",
     "text": [
      "\n",
      "quick_sort:\n",
      "67.8 µs ± 4.48 µs per loop (mean ± std. dev. of 7 runs, 1000 loops each)\n",
      "\n",
      "merge_sort:\n",
      "372 µs ± 12.2 µs per loop (mean ± std. dev. of 7 runs, 1000 loops each)\n",
      "\n",
      "selection_sort:\n",
      "314 µs ± 16.1 µs per loop (mean ± std. dev. of 7 runs, 1000 loops each)\n",
      "\n",
      "bubble_sort:\n",
      "9.6 µs ± 281 ns per loop (mean ± std. dev. of 7 runs, 1000 loops each)\n",
      "\n",
      "insertion_sort:\n",
      "414 µs ± 108 µs per loop (mean ± std. dev. of 7 runs, 1000 loops each)\n",
      "\n",
      "gnomesort:\n",
      "28.6 µs ± 6.45 µs per loop (mean ± std. dev. of 7 runs, 1000 loops each)\n"
     ]
    }
   ],
   "source": [
    "L = [random.randint(0, 100) for _ in range(100)]\n",
    "\n",
    "sorts = [\n",
    "    quick_sort,\n",
    "    merge_sort,\n",
    "    selection_sort,\n",
    "    bubble_sort,\n",
    "    insertion_sort,\n",
    "    gnomesort,\n",
    "]\n",
    "\n",
    "for sort_f in sorts:\n",
    "    assert sorted(L) == sort_f(L), f\"{sort_f.__name__} broken\"\n",
    "    \n",
    "    print(f\"\\n{sort_f.__name__}:\")\n",
    "    %timeit -n 1000 sort_f(L)"
   ]
  },
  {
   "cell_type": "code",
   "execution_count": 10,
   "metadata": {},
   "outputs": [
    {
     "data": {
      "text/plain": [
       "[]"
      ]
     },
     "execution_count": 10,
     "metadata": {},
     "output_type": "execute_result"
    }
   ],
   "source": [
    "insertion_sort(L)"
   ]
  },
  {
   "cell_type": "code",
   "execution_count": null,
   "metadata": {},
   "outputs": [],
   "source": []
  }
 ],
 "metadata": {
  "kernelspec": {
   "display_name": "Python 3",
   "language": "python",
   "name": "python3"
  },
  "language_info": {
   "codemirror_mode": {
    "name": "ipython",
    "version": 3
   },
   "file_extension": ".py",
   "mimetype": "text/x-python",
   "name": "python",
   "nbconvert_exporter": "python",
   "pygments_lexer": "ipython3",
   "version": "3.7.3"
  }
 },
 "nbformat": 4,
 "nbformat_minor": 4
}
