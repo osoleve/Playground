{
 "cells": [
  {
   "cell_type": "markdown",
   "metadata": {},
   "source": [
    "I know these are \"unpythonic\" but I eschewed some of Python's more elegant constructs in order to increase efficiency (for whatever that's worth)\n",
    "\n",
    "This is just for fun and learning, there are more efficient methods for sorting."
   ]
  },
  {
   "cell_type": "code",
   "execution_count": 1,
   "metadata": {},
   "outputs": [],
   "source": [
    "%load_ext Cython\n",
    "import random\n",
    "import numpy as np"
   ]
  },
  {
   "cell_type": "code",
   "execution_count": 2,
   "metadata": {},
   "outputs": [],
   "source": [
    "def merge_sort(L):\n",
    "    \"\"\"Merge sort:\n",
    "    Recursively break the list into two sublists, sort those sublists, and merge the sorted lists.\n",
    "    \"\"\"\n",
    "\n",
    "    def merge_sorted(L1, L2):\n",
    "        \"\"\"Merge 2 sorted lists\"\"\"\n",
    "\n",
    "        count1 = len(L1)\n",
    "        if count1 == 0:\n",
    "            return L2\n",
    "\n",
    "        count2 = len(L2)\n",
    "        if count2 == 0:\n",
    "            return L1\n",
    "        elif count1 == 1 and count2 == 1:\n",
    "            if L1[0] >= L2[0]:\n",
    "                return [L2[0], L1[0]]\n",
    "            else:\n",
    "                return [L1[0], L2[0]]\n",
    "        else:\n",
    "            if L1[0] == L2[0]:\n",
    "                return [L1[0], L2[0]] + merge_sorted(L1[1:], L2[1:])\n",
    "            elif L1[0] > L2[0]:\n",
    "                return [L2[0]] + merge_sorted(L1, L2[1:])\n",
    "            else:\n",
    "                return [L1[0]] + merge_sorted(L1[1:], L2)\n",
    "\n",
    "    count = len(L)\n",
    "\n",
    "    if count == 1:\n",
    "        return L\n",
    "    elif count == 2:\n",
    "        return merge_sorted([L[0]], [L[1]])\n",
    "    else:\n",
    "        mid = int(count / 2)\n",
    "        L1, L2 = L[:mid], L[mid:]\n",
    "        return merge_sorted(merge_sort(L1), merge_sort(L2))"
   ]
  },
  {
   "cell_type": "code",
   "execution_count": 3,
   "metadata": {},
   "outputs": [],
   "source": [
    "def quicksort(L):\n",
    "    \"\"\"Quicksort: \n",
    "    Recursively:\n",
    "    Pick a pivot index (below uses the first item in the list). \n",
    "    Move items less than the pivot to the left.\n",
    "    Move items greater than the pivot to the right.\n",
    "    Mofidied: Keep items equal to pivot in the center with the pivot.\"\"\"\n",
    "    count = len(L)\n",
    "\n",
    "    if count == 0:\n",
    "        return []\n",
    "    elif count == 1:\n",
    "        return L\n",
    "    elif count == 2:\n",
    "        if L[0] <= L[1]:\n",
    "            return L\n",
    "        else:\n",
    "            return L[::-1]\n",
    "    else:\n",
    "        pivot = L[0]\n",
    "        left, middle, right = [], [], []\n",
    "\n",
    "        for x in L:\n",
    "            if x < pivot:\n",
    "                left.append(x)\n",
    "            elif x == pivot:\n",
    "                middle.append(x)\n",
    "            else:\n",
    "                right.append(x)\n",
    "\n",
    "        return quicksort(left) + middle + quicksort(right)"
   ]
  },
  {
   "cell_type": "code",
   "execution_count": 4,
   "metadata": {},
   "outputs": [],
   "source": [
    "def selection_sort(L):\n",
    "    \"\"\"Selection sort:\n",
    "    Recursively move the minimum item to the beginning of the list.\n",
    "    Modified: Move all equal to minimum at the same time.\"\"\"\n",
    "    count = len(L)\n",
    "\n",
    "    if count == 0:\n",
    "        return []\n",
    "    elif count == 1:\n",
    "        return L\n",
    "    else:\n",
    "        minL = min(L)\n",
    "        left, right = [], []\n",
    "\n",
    "        for x in L:\n",
    "            if x == minL:\n",
    "                left.append(x)\n",
    "            else:\n",
    "                right.append(x)\n",
    "\n",
    "        return left + selection_sort(right)"
   ]
  },
  {
   "cell_type": "code",
   "execution_count": 5,
   "metadata": {},
   "outputs": [],
   "source": [
    "def insertion_sort(L):\n",
    "    \"\"\"Insertion sort:\n",
    "    Create a new list one element at a time, putting each element where it belongs.\n",
    "    \n",
    "    TODO: Rewrite using binary search (or better?) instead of linear\"\"\"\n",
    "\n",
    "    newL = []\n",
    "\n",
    "    for x in L:\n",
    "        if newL == []:\n",
    "            newL = [x]\n",
    "            continue\n",
    "        newlen = len(newL)\n",
    "        for i, y in enumerate(newL):\n",
    "            if y >= x:\n",
    "                newL = newL[:i] + [x] + newL[i:]\n",
    "                break\n",
    "            if i + 1 == newlen:\n",
    "                newL.append(x)\n",
    "                break\n",
    "\n",
    "    return newL"
   ]
  },
  {
   "cell_type": "code",
   "execution_count": 6,
   "metadata": {},
   "outputs": [],
   "source": [
    "def bubble_sort(L):\n",
    "    \"\"\"Bubble sort:\n",
    "    Continuously swap adjacent pairs if they're in reverse order.\n",
    "    Return the list when you make a full pass without any swaps.\"\"\"\n",
    "    is_sorted = 0\n",
    "    count = len(L)\n",
    "\n",
    "    if count == 0:\n",
    "        return []\n",
    "    elif count == 1:\n",
    "        return L\n",
    "\n",
    "    while is_sorted == 0:\n",
    "        is_sorted = 1\n",
    "\n",
    "        for i, x in enumerate(L):\n",
    "            if i + 1 == count:\n",
    "                break\n",
    "\n",
    "            y = L[i + 1]\n",
    "\n",
    "            if x > y:\n",
    "                L[i], L[i + 1] = y, x\n",
    "                is_sorted = 0\n",
    "\n",
    "    return L"
   ]
  },
  {
   "cell_type": "code",
   "execution_count": 8,
   "metadata": {},
   "outputs": [],
   "source": [
    "%%cython\n",
    "\n",
    "from cython cimport sizeof\n",
    "from libc.stdlib cimport malloc, free\n",
    "\n",
    "cpdef list bubble_sort_cy(list L):\n",
    "    \"\"\"Bubble sort (cythonized):\n",
    "    Continuously swap adjacent pairs if they're in reverse order.\n",
    "    Return the list when you make a full pass without any swaps.\n",
    "    \n",
    "    Internal conversion between Python list and C array.\"\"\"\n",
    "    cdef:  # static type declarations\n",
    "        int *c_list  # a C array of ints\n",
    "        int count, i\n",
    "        bint is_sorted\n",
    "        \n",
    "    count = len(L)\n",
    "    c_list = <int *> malloc(count * sizeof(int))\n",
    "    is_sorted = False\n",
    "    \n",
    "    #  convert Python list to C array\n",
    "    for i in range(count):\n",
    "        c_list[i] = L[i]\n",
    "        \n",
    "    # bubble sort\n",
    "    while is_sorted == False:\n",
    "        is_sorted = True\n",
    "        \n",
    "        for i in range(count):\n",
    "            if i + 1 == count:\n",
    "                break\n",
    "            if c_list[i] > c_list[i+1]:\n",
    "                c_list[i], c_list[i+1] = c_list[i+1], c_list[i]\n",
    "                is_sorted = False\n",
    "            \n",
    "    \n",
    "    #  convert C array back to Python list\n",
    "    for i in range(count):\n",
    "        L[i] = c_list[i]\n",
    "        \n",
    "    free(c_list)\n",
    "    return L"
   ]
  },
  {
   "cell_type": "code",
   "execution_count": 9,
   "metadata": {},
   "outputs": [
    {
     "name": "stdout",
     "output_type": "stream",
     "text": [
      "bubble_sort:\t1.03 ms ± 188 µs per loop (mean ± std. dev. of 7 runs, 10000 loops each)\n",
      "bubble_sort_cy:\t138 µs ± 4.54 µs per loop (mean ± std. dev. of 7 runs, 10000 loops each)\n",
      "Wall time: 1min 21s\n"
     ]
    }
   ],
   "source": [
    "%%time\n",
    "\n",
    "L = [random.randint(0, 100000) for _ in range(5000)]\n",
    "\n",
    "sorts = [\n",
    "#    quicksort,\n",
    "#    merge_sort,\n",
    "#    selection_sort,\n",
    "    bubble_sort,\n",
    "    bubble_sort_cy,\n",
    "#    insertion_sort,\n",
    "]\n",
    "\n",
    "for sort_f in sorts:\n",
    "    #assert sorted(L) == sort_f(L), f\"{sort_f.__name__} broken\"\n",
    "    \n",
    "    print(f\"{sort_f.__name__}:\\t\", end='')\n",
    "    %timeit -n10000 sort_f(L)\n",
    "    "
   ]
  },
  {
   "cell_type": "code",
   "execution_count": 10,
   "metadata": {},
   "outputs": [
    {
     "data": {
      "text/plain": [
       "[]"
      ]
     },
     "execution_count": 10,
     "metadata": {},
     "output_type": "execute_result"
    }
   ],
   "source": [
    "insertion_sort(L)"
   ]
  }
 ],
 "metadata": {
  "kernelspec": {
   "display_name": "Python 3",
   "language": "python",
   "name": "python3"
  },
  "language_info": {
   "codemirror_mode": {
    "name": "ipython",
    "version": 3
   },
   "file_extension": ".py",
   "mimetype": "text/x-python",
   "name": "python",
   "nbconvert_exporter": "python",
   "pygments_lexer": "ipython3",
   "version": "3.7.4"
  },
  "widgets": {
   "application/vnd.jupyter.widget-state+json": {
    "state": {},
    "version_major": 2,
    "version_minor": 0
   }
  }
 },
 "nbformat": 4,
 "nbformat_minor": 4
}
