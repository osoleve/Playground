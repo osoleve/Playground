{
 "cells": [
  {
   "cell_type": "raw",
   "metadata": {},
   "source": [
    "I know these are \"unpythonic\" but I eschewed some of Python's more elegant constructs in order to increase efficiency (for whatever that's worth)"
   ]
  },
  {
   "cell_type": "code",
   "execution_count": 8,
   "metadata": {},
   "outputs": [],
   "source": [
    "import random"
   ]
  },
  {
   "cell_type": "code",
   "execution_count": 9,
   "metadata": {},
   "outputs": [],
   "source": [
    "def merge_sort(L):\n",
    "    \"\"\"Merge sort: Divide and conquer the list.\n",
    "    Recursively break the list into two sublists, sort those sublists, and merge the sorted lists.\n",
    "    \"\"\"\n",
    "    def merge_sorted(L1, L2):\n",
    "        \"\"\"Merge 2 sorted lists\"\"\"\n",
    "\n",
    "        lenL1 = len(L1)\n",
    "        if lenL1 == 0:\n",
    "            return L2\n",
    "\n",
    "        lenL2 = len(L2)\n",
    "        if lenL2 == 0:\n",
    "            return L1\n",
    "        elif lenL1 == 1 and lenL2 == 1:\n",
    "            if L1[0] >= L2[0]:\n",
    "                return [L2[0], L1[0]]\n",
    "            else:\n",
    "                return [L1[0], L2[0]]\n",
    "        else:\n",
    "            if L1[0] == L2[0]:\n",
    "                return [L1[0], L2[0]] + merge_sorted(L1[1:], L2[1:])\n",
    "            elif L1[0] > L2[0]:\n",
    "                return [L2[0]] + merge_sorted(L1, L2[1:])\n",
    "            else:\n",
    "                return [L1[0]] + merge_sorted(L1[1:], L2)\n",
    "\n",
    "    lenL = len(L)\n",
    "\n",
    "    if lenL == 1:\n",
    "        return L\n",
    "    elif lenL == 2:\n",
    "        return merge_sorted([L[0]], [L[1]])\n",
    "    else:\n",
    "        mid = int(lenL / 2)\n",
    "        L1, L2 = L[:mid], L[mid:]\n",
    "        return merge_sorted(merge_sort(L1), merge_sort(L2))"
   ]
  },
  {
   "cell_type": "code",
   "execution_count": 79,
   "metadata": {},
   "outputs": [],
   "source": [
    "def quick_sort(L):\n",
    "    \"\"\"Quicksort:\"\"\"\n",
    "    lenL = len(L)\n",
    "    \n",
    "    if lenL == 0:\n",
    "        return []\n",
    "    elif lenL == 1:\n",
    "        return L\n",
    "    elif lenL == 2:\n",
    "        if L[0] <= L[1]:\n",
    "            return L\n",
    "        else:\n",
    "            return L[::-1]\n",
    "    else:\n",
    "        pivot = L[0]\n",
    "        left, middle, right = [], [], []\n",
    "        \n",
    "        for x in L:\n",
    "            if x < pivot:\n",
    "                left.append(x)\n",
    "            elif x == pivot:\n",
    "                middle.append(x)\n",
    "            else:\n",
    "                right.append(x)\n",
    "        \n",
    "        return quick_sort(left) + middle + quick_sort(right)"
   ]
  },
  {
   "cell_type": "code",
   "execution_count": 85,
   "metadata": {},
   "outputs": [],
   "source": [
    "def selection_sort(L):\n",
    "    lenL = len(L)\n",
    "    \n",
    "    if lenL == 0:\n",
    "        return []\n",
    "    elif lenL == 1:\n",
    "        return L\n",
    "    else:\n",
    "        minL = min(L)\n",
    "        left, right = [], []\n",
    "        \n",
    "        for x in L:\n",
    "            if x == minL:\n",
    "                left.append(x)\n",
    "            else:\n",
    "                right.append(x)\n",
    "            \n",
    "        return left + selection_sort(right)"
   ]
  },
  {
   "cell_type": "code",
   "execution_count": 86,
   "metadata": {},
   "outputs": [
    {
     "name": "stdout",
     "output_type": "stream",
     "text": [
      "71 µs ± 8.49 µs per loop (mean ± std. dev. of 7 runs, 1000 loops each)\n",
      "348 µs ± 8.99 µs per loop (mean ± std. dev. of 7 runs, 1000 loops each)\n",
      "279 µs ± 6.12 µs per loop (mean ± std. dev. of 7 runs, 1000 loops each)\n"
     ]
    }
   ],
   "source": [
    "L = [random.randint(0,100) for _ in range(100)]\n",
    "\n",
    "assert sorted(L) == quick_sort(L), \"quick_sort broken\"\n",
    "assert sorted(L) == merge_sort(L), \"merge_sort broken\"\n",
    "assert sorted(L) == selection_sort(L), \"selection_sort broken\"\n",
    "\n",
    "%timeit -n 1000 quick_sort(L)\n",
    "%timeit -n 1000 merge_sort(L)\n",
    "%timeit -n 1000 selection_sort(L)"
   ]
  },
  {
   "cell_type": "code",
   "execution_count": null,
   "metadata": {},
   "outputs": [],
   "source": []
  }
 ],
 "metadata": {
  "kernelspec": {
   "display_name": "Python 3",
   "language": "python",
   "name": "python3"
  },
  "language_info": {
   "codemirror_mode": {
    "name": "ipython",
    "version": 3
   },
   "file_extension": ".py",
   "mimetype": "text/x-python",
   "name": "python",
   "nbconvert_exporter": "python",
   "pygments_lexer": "ipython3",
   "version": "3.7.3"
  }
 },
 "nbformat": 4,
 "nbformat_minor": 4
}
